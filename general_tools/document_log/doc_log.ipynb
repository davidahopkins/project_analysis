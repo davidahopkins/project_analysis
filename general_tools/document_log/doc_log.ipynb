{
 "cells": [
  {
   "cell_type": "code",
   "execution_count": null,
   "metadata": {},
   "outputs": [],
   "source": [
    "import numpy as np\n",
    "import pandas as pd\n",
    "import os\n",
    "import time\n",
    "import glob\n",
    "from openpyxl import Workbook"
   ]
  },
  {
   "cell_type": "code",
   "execution_count": null,
   "metadata": {},
   "outputs": [],
   "source": [
    "dir_path = input('what is the file path?')\n",
    "\n",
    "save_to_current = input('do you want to save output to another location? [y/n]?')\n",
    "if save_to_current == 'y':\n",
    "    save_path = file_path\n",
    "else:\n",
    "    save_path = input('what is the file path to save to?')\n",
    "\n",
    "project_number = input(str('what is the project #?'))\n",
    "\n",
    "start = time.perf_counter()"
   ]
  },
  {
   "cell_type": "code",
   "execution_count": null,
   "metadata": {},
   "outputs": [],
   "source": [
    "file_name = []\n",
    "\n",
    "for (root, dirs, file) in os.walk(dir_path):\n",
    "    for f in file:\n",
    "        file_name.append(f)\n",
    "\n",
    "file_path = [os.path.join(dirpath, f) for (dirpath, dirnames, filenames) in os.walk(dir_path) for f in filenames]\n",
    "\n",
    "count = len(file_name)\n"
   ]
  },
  {
   "cell_type": "code",
   "execution_count": null,
   "metadata": {},
   "outputs": [],
   "source": [
    "file_dict = {file_name[i]: file_path[i] for i in range(len(file_name))}\n",
    "\n",
    "df = pd.DataFrame(list(zip(file_name, file_path)), columns=['Name', 'Path'])"
   ]
  },
  {
   "cell_type": "code",
   "execution_count": null,
   "metadata": {},
   "outputs": [],
   "source": [
    "df.insert(0,'Date','')\n",
    "df.insert(1,'Document Type','')\n",
    "df['Name Match'] = ''\n",
    "df['Error Checking'] = ''\n",
    "df['Document'] = ''\n",
    "df['Author'] = ''\n",
    "df['Amount'] = ''\n",
    "\n",
    "df.head()"
   ]
  },
  {
   "cell_type": "code",
   "execution_count": null,
   "metadata": {},
   "outputs": [],
   "source": [
    "for i in range(count):\n",
    "    j =+ i+1\n",
    "    df.loc[i,'Document'] = '=HYPERLINK(E{}, D{})'.format(j+1,j+1)\n",
    "    df.loc[i,'Name Match'] = '=TRIM(RIGHT(SUBSTITUTE(E{},\"\\\\\",REPT(\" \",255)),255))'.format(j+1,j+1)\n",
    "    df.loc[i, 'Error Checking'] = '=D{}=F{}'.format(j+1,j+1)\n",
    "\n",
    "df.head()"
   ]
  },
  {
   "cell_type": "code",
   "execution_count": null,
   "metadata": {},
   "outputs": [],
   "source": [
    "df.to_excel(save_path+'\\\\'+project_number+'.Document Log.xlsx')\n",
    "#print(save_path+'\\\\'+project_number+'.Document Log.xlsx')"
   ]
  },
  {
   "cell_type": "code",
   "execution_count": null,
   "metadata": {},
   "outputs": [],
   "source": [
    "\n",
    "stop = time.perf_counter()\n",
    "print(f'A total of {count} documents were listed in {stop - start:0.2f} seconds')"
   ]
  }
 ],
 "metadata": {
  "kernelspec": {
   "display_name": "Python 3",
   "language": "python",
   "name": "python3"
  },
  "language_info": {
   "codemirror_mode": {
    "name": "ipython",
    "version": 3
   },
   "file_extension": ".py",
   "mimetype": "text/x-python",
   "name": "python",
   "nbconvert_exporter": "python",
   "pygments_lexer": "ipython3",
   "version": "3.10.11"
  },
  "orig_nbformat": 4
 },
 "nbformat": 4,
 "nbformat_minor": 2
}
